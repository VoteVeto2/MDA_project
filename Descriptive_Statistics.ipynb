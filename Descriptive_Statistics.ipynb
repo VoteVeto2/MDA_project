{
 "cells": [
  {
   "cell_type": "markdown",
   "metadata": {},
   "source": [
    "# Descriptive Statistics"
   ]
  },
  {
   "cell_type": "code",
   "execution_count": 1,
   "metadata": {},
   "outputs": [],
   "source": [
    "import pandas as pd\n",
    "import numpy as np\n",
    "from collections import defaultdict\n",
    "from itertools import combinations\n",
    "from datetime import datetime"
   ]
  },
  {
   "cell_type": "code",
   "execution_count": 2,
   "metadata": {},
   "outputs": [
    {
     "name": "stdout",
     "output_type": "stream",
     "text": [
      "Loaded 100249 organization observations.\n",
      "Loaded 15341 projects.\n",
      "Loaded 15341 topics.\n"
     ]
    }
   ],
   "source": [
    "org_df = pd.read_excel('dataset/projects/organization.xlsx') \n",
    "print(f'Loaded {len(org_df)} organization observations.')\n",
    "\n",
    "proj_df = pd.read_excel('dataset/projects/project.xlsx')\n",
    "print(f'Loaded {len(proj_df)} projects.')\n",
    "\n",
    "topic_df = pd.read_excel('dataset/projects/topics.xlsx')    \n",
    "print(f'Loaded {len(topic_df)} topics.')\n"
   ]
  },
  {
   "cell_type": "markdown",
   "metadata": {},
   "source": [
    "## 0. Preprocessing"
   ]
  },
  {
   "cell_type": "code",
   "execution_count": null,
   "metadata": {},
   "outputs": [],
   "source": [
    "# Group organizations by `projectID`\n",
    "project_org = org_df.groupby('projectID').apply(lambda x: x.to_dict('records')).to_dict()\n",
    "# lambda x: x.to_dict('records') converts each df to a list of dictionaries. keys = col, values = row  \n",
    "print(f'{len(project_org)} unique projects with organizations.')\n",
    "\n",
    "# Identify collaborations between organizations \n",
    "collaborative_proj = [project_id for project_id, orgs in project_org.items() if len(orgs) > 1] \n",
    "print(f'{len(collaborative_proj)} projects with multiple organizations.')\n",
    "\n",
    "# Calculate the distribution of organizations per project\n",
    "orgs_per_proj_counts = org_df['projectID'].value_counts().value_counts().sort_index()\n",
    "print('\\n Distribution of organizations per project:\\n')\n",
    "for count, projects in orgs_per_proj_counts.items():\n",
    "    print(f'{count} organizations: {projects} projects')"
   ]
  },
  {
   "cell_type": "markdown",
   "metadata": {},
   "source": [
    "## 1. Network Pairs"
   ]
  },
  {
   "cell_type": "code",
   "execution_count": 8,
   "metadata": {},
   "outputs": [
    {
     "name": "stdout",
     "output_type": "stream",
     "text": [
      "Generated 914397 collaboration pairs.\n"
     ]
    },
    {
     "data": {
      "text/plain": [
       "[{'projectID': 101039060,\n",
       "  'org1': None,\n",
       "  'org1_name': 'ARANZADI ZIENTZI ELKARTEA',\n",
       "  'org1_country': 'ES',\n",
       "  'org2': None,\n",
       "  'org2_name': 'UNIVERSITAT DE BARCELONA',\n",
       "  'org2_country': 'ES'},\n",
       " {'projectID': 101039060,\n",
       "  'org1': None,\n",
       "  'org1_name': 'ARANZADI ZIENTZI ELKARTEA',\n",
       "  'org1_country': 'ES',\n",
       "  'org2': None,\n",
       "  'org2_name': 'UNIVERSIDAD DEL PAIS VASCO/ EUSKAL HERRIKO UNIBERTSITATEA',\n",
       "  'org2_country': 'ES'}]"
      ]
     },
     "execution_count": 8,
     "metadata": {},
     "output_type": "execute_result"
    }
   ],
   "source": [
    "collaborations = []\n",
    "total_collaborations_pairs = 0 \n",
    "\n",
    "for project_id in collaborative_proj:\n",
    "    orgs = project_org[project_id]\n",
    "\n",
    "    # Generate all possible pairs of organizations\n",
    "    for org1, org2 in combinations(orgs, 2):\n",
    "    # combinations() returns all possible pairs between orgs\n",
    "        collaborations.append({\n",
    "            'projectID': project_id,\n",
    "            'org1': org1.get('organizationID'),\n",
    "            'org1_name': org1.get('name'),\n",
    "            'org1_country': org1.get('country'),\n",
    "            'org2': org2.get('organizationID'),\n",
    "            'org2_name': org2.get('name'),\n",
    "            'org2_country': org2.get('country')\n",
    "        })\n",
    "        total_collaborations_pairs += 1 \n",
    "\n",
    "print(f'Generated {total_collaborations_pairs} collaboration pairs.')\n",
    "collaborations[:2]"
   ]
  },
  {
   "cell_type": "markdown",
   "metadata": {},
   "source": [
    "## 2. Calculate degrees( # ! parteners)"
   ]
  },
  {
   "cell_type": "code",
   "execution_count": null,
   "metadata": {},
   "outputs": [],
   "source": [
    "org_partners = defaultdict(set) # defaultdict is a dictionary that initializes missing keys with a default value\n",
    "\n",
    "# Create a dictionary of organizations and their partners\n",
    "for collab in collaborations:\n",
    "    org_partners[collab['org1']].add(collab['org2'])\n",
    "    org_partners[collab['org2']].add(collab['org1'])\n",
    "\n",
    "# Convert sets to counts \n",
    "org_degrees = {org: len(partners) for org, partners in org_partners.items()}\n",
    "\n",
    "# Find organizations with the highest degree of collaborations\n",
    "print('\\n Top10 organizations with the highest number of collaborations:')\n",
    "top10_orgs = sorted(org_degrees.items(), key = lambda x: x[1], reverse = True)[:10]\n"
   ]
  },
  {
   "cell_type": "code",
   "execution_count": null,
   "metadata": {},
   "outputs": [],
   "source": []
  },
  {
   "cell_type": "code",
   "execution_count": null,
   "metadata": {},
   "outputs": [],
   "source": []
  },
  {
   "cell_type": "code",
   "execution_count": null,
   "metadata": {},
   "outputs": [],
   "source": []
  },
  {
   "cell_type": "code",
   "execution_count": null,
   "metadata": {},
   "outputs": [],
   "source": []
  }
 ],
 "metadata": {
  "kernelspec": {
   "display_name": "base",
   "language": "python",
   "name": "python3"
  },
  "language_info": {
   "codemirror_mode": {
    "name": "ipython",
    "version": 3
   },
   "file_extension": ".py",
   "mimetype": "text/x-python",
   "name": "python",
   "nbconvert_exporter": "python",
   "pygments_lexer": "ipython3",
   "version": "3.12.7"
  }
 },
 "nbformat": 4,
 "nbformat_minor": 2
}
