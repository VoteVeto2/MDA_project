{
 "cells": [
  {
   "cell_type": "code",
   "execution_count": 2,
   "id": "aef23d8b",
   "metadata": {},
   "outputs": [],
   "source": [
    "import pandas as pd \n",
    "import json"
   ]
  },
  {
   "cell_type": "code",
   "execution_count": 6,
   "id": "61aef645",
   "metadata": {},
   "outputs": [],
   "source": [
    "with open('top5_recommendations_with_labels.json', 'r') as f:\n",
    "    data = json.load(f)"
   ]
  },
  {
   "cell_type": "code",
   "execution_count": 10,
   "id": "6a36e805",
   "metadata": {},
   "outputs": [],
   "source": [
    "# Remove the `\\\"` in the labels \n",
    "for uni, collaborators in data.items():\n",
    "    for collaborator in collaborators:\n",
    "        collaborator[0] = collaborator[0].replace('\\\"', '\"')"
   ]
  },
  {
   "cell_type": "code",
   "execution_count": 11,
   "id": "2b1b6d37",
   "metadata": {},
   "outputs": [],
   "source": [
    "with open('data.json', 'w') as f:\n",
    "    json.dump(data, f, indent = 2)"
   ]
  },
  {
   "cell_type": "code",
   "execution_count": null,
   "id": "5ff6d68b",
   "metadata": {},
   "outputs": [],
   "source": []
  }
 ],
 "metadata": {
  "kernelspec": {
   "display_name": "base",
   "language": "python",
   "name": "python3"
  },
  "language_info": {
   "codemirror_mode": {
    "name": "ipython",
    "version": 3
   },
   "file_extension": ".py",
   "mimetype": "text/x-python",
   "name": "python",
   "nbconvert_exporter": "python",
   "pygments_lexer": "ipython3",
   "version": "3.12.7"
  }
 },
 "nbformat": 4,
 "nbformat_minor": 5
}
