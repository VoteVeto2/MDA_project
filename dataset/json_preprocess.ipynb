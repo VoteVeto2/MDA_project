{
 "cells": [
  {
   "cell_type": "code",
   "execution_count": 66,
   "id": "aef23d8b",
   "metadata": {},
   "outputs": [],
   "source": [
    "import json"
   ]
  },
  {
   "cell_type": "code",
   "execution_count": 67,
   "id": "61aef645",
   "metadata": {},
   "outputs": [],
   "source": [
    "with open('top5_recommendations_with_labels.json', 'r', encoding='utf-8') as f:\n",
    "    data = json.load(f)"
   ]
  },
  {
   "cell_type": "code",
   "execution_count": 68,
   "id": "6a36e805",
   "metadata": {},
   "outputs": [],
   "source": [
    "# Clean both keys and values \n",
    "# - encode and decode unicode, remove `\\\"` and capitalize \n",
    "def clean_data(data):\n",
    "    \n",
    "    cleaned_data = {}\n",
    "    for uni, collaborators in data.items():\n",
    "        clean_uni = uni.replace('\\\\\"', '\"').replace('\"', '').capitalize()\n",
    "\n",
    "        cleaned_collaborators = []\n",
    "        for collaborator in collaborators:\n",
    "            clean_label = collaborator[0].replace('\\\\\"', '\"').replace('\"', '').capitalize()\n",
    "            cleaned_collaborators.append([clean_label, collaborator[1]])\n",
    "\n",
    "        cleaned_data[clean_uni] = cleaned_collaborators\n",
    "\n",
    "    return cleaned_data\n",
    "\n",
    "cleaned_data = clean_data(data)"
   ]
  },
  {
   "cell_type": "code",
   "execution_count": 69,
   "id": "2b1b6d37",
   "metadata": {},
   "outputs": [],
   "source": [
    "# Convert cleaned data to JSON string format\n",
    "json_string = json.dumps(cleaned_data, indent=2, ensure_ascii=False)\n",
    "\n",
    "data_final = json.loads(json_string)\n",
    "\n",
    "# Save to data.json\n",
    "with open('data.json', 'w', encoding='utf-8') as f:\n",
    "    json.dump(data_final, f, indent=2, ensure_ascii=False)\n",
    "\n"
   ]
  },
  {
   "cell_type": "code",
   "execution_count": 51,
   "id": "5ff6d68b",
   "metadata": {},
   "outputs": [
    {
     "name": "stdout",
     "output_type": "stream",
     "text": [
      "{'município de olhão': [['people in focus', 0.6282945275306702], ['organisatie broeders van liefde', 0.6267731785774231], ['valmet aktiebolag', 0.6262372136116028], ['coras iompair eireann', 0.6254380345344543], ['stiftelsen norrsken mind', 0.6253197193145752]], 'pno consultants': [['zentyr za izsledvane i analisi', 0.9800611734390259], ['western development commission', 0.9789272546768188], ['comhoibriu company limited byguarantee', 0.9775967597961426], ['media deals ug (haftungsbeschränkt)', 0.9718467593193054], ['sauletekio slenio mokslo ir technologiju parkas', 0.9716604351997375]], 'Slovenský ochranný zväz autorský pre práva k hudobným dielam': [['Stichting wageningen research', 0.9090539216995239], ['Consiglio nazionale delle ricerche', 0.8973049521446228], ['The university of edinburgh', 0.8867132663726807], ['Agencia estatal consejo superior de investigaciones cientificas', 0.8759588599205017], ['Universitat de barcelona', 0.8751041889190674]]}\n"
     ]
    }
   ],
   "source": [
    "# Test below\n",
    "json_str = '''\n",
    "{\n",
    "  \"munic\\u00edpio de olh\\u00e3o\": [\n",
    "    [\n",
    "      \"people in focus\",\n",
    "      0.6282945275306702\n",
    "    ],\n",
    "    [\n",
    "      \"organisatie broeders van liefde\",\n",
    "      0.6267731785774231\n",
    "    ],\n",
    "    [\n",
    "      \"valmet aktiebolag\",\n",
    "      0.6262372136116028\n",
    "    ],\n",
    "    [\n",
    "      \"coras iompair eireann\",\n",
    "      0.6254380345344543\n",
    "    ],\n",
    "    [\n",
    "      \"stiftelsen norrsken mind\",\n",
    "      0.6253197193145752\n",
    "    ]\n",
    "  ],\n",
    " \"pno consultants\": [\n",
    "    [\n",
    "      \"zentyr za izsledvane i analisi\",\n",
    "      0.9800611734390259\n",
    "    ],\n",
    "    [\n",
    "      \"western development commission\",\n",
    "      0.9789272546768188\n",
    "    ],\n",
    "    [\n",
    "      \"comhoibriu company limited byguarantee\",\n",
    "      0.9775967597961426\n",
    "    ],\n",
    "    [\n",
    "      \"media deals ug (haftungsbeschr\\u00e4nkt)\",\n",
    "      0.9718467593193054\n",
    "    ],\n",
    "    [\n",
    "      \"sauletekio slenio mokslo ir technologiju parkas\",\n",
    "      0.9716604351997375\n",
    "    ]\n",
    "  ],\n",
    "  \"Slovensk\\\\u00fd ochrann\\\\u00fd zv\\\\u00e4z autorsk\\\\u00fd pre pr\\\\u00e1va k hudobn\\\\u00fdm dielam\": [\n",
    "    [\n",
    "      \"Stichting wageningen research\",\n",
    "      0.9090539216995239\n",
    "    ],\n",
    "    [\n",
    "      \"Consiglio nazionale delle ricerche\",\n",
    "      0.8973049521446228\n",
    "    ],\n",
    "    [\n",
    "      \"The university of edinburgh\",\n",
    "      0.8867132663726807\n",
    "    ],\n",
    "    [\n",
    "      \"Agencia estatal consejo superior de investigaciones cientificas\",\n",
    "      0.8759588599205017\n",
    "    ],\n",
    "    [\n",
    "      \"Universitat de barcelona\",\n",
    "      0.8751041889190674\n",
    "    ]\n",
    "  ]\n",
    "}\n",
    "'''\n",
    "\n",
    "data_trial = json.loads(json_str)\n",
    "print(data_trial)"
   ]
  },
  {
   "cell_type": "code",
   "execution_count": null,
   "id": "b95e3472",
   "metadata": {},
   "outputs": [],
   "source": []
  },
  {
   "cell_type": "code",
   "execution_count": null,
   "id": "18b4dd44",
   "metadata": {},
   "outputs": [],
   "source": []
  }
 ],
 "metadata": {
  "kernelspec": {
   "display_name": "base",
   "language": "python",
   "name": "python3"
  },
  "language_info": {
   "codemirror_mode": {
    "name": "ipython",
    "version": 3
   },
   "file_extension": ".py",
   "mimetype": "text/x-python",
   "name": "python",
   "nbconvert_exporter": "python",
   "pygments_lexer": "ipython3",
   "version": "3.12.7"
  }
 },
 "nbformat": 4,
 "nbformat_minor": 5
}
