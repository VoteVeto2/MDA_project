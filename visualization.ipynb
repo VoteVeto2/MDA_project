{
 "cells": [
  {
   "cell_type": "markdown",
   "metadata": {},
   "source": [
    "# Visualization of Datasets"
   ]
  },
  {
   "cell_type": "markdown",
   "metadata": {},
   "source": [
    "This notebook provides visualizations for the Horizon Europe projects dataset (2021-2027), containing information about EU-funded research projects, their deliverables, publications, and summaries."
   ]
  },
  {
   "cell_type": "code",
   "execution_count": 2,
   "metadata": {},
   "outputs": [],
   "source": [
    "# Import necessary libraries\n",
    "import pandas as pd\n",
    "import numpy as np\n",
    "import matplotlib.pyplot as plt\n",
    "import seaborn as sns\n",
    "from wordcloud import WordCloud\n",
    "import plotly.express as px\n",
    "import plotly.graph_objects as go\n",
    "from datetime import datetime\n",
    "import warnings\n",
    "warnings.filterwarnings('ignore')"
   ]
  },
  {
   "cell_type": "markdown",
   "metadata": {},
   "source": [
    "## 1. Data Loading"
   ]
  },
  {
   "cell_type": "code",
   "execution_count": 5,
   "metadata": {},
   "outputs": [
    {
     "name": "stdout",
     "output_type": "stream",
     "text": [
      "EuroSciVoc dataset shape: (38789, 5)\n",
      "Legal Basis dataset shape: (20512, 4)\n",
      "Organizations dataset shape: (100249, 25)\n",
      "Project dataset shape: (15341, 20)\n",
      "Topics dataset shape: (15341, 3)\n",
      "Web Item dataset shape: (4, 7)\n",
      "Web Link dataset shape: (21440, 9)\n",
      "Deliverables dataset shape: (20815, 10)\n",
      "Publications dataset shape: (21310, 16)\n",
      "Summaries dataset shape: (3521, 7)\n"
     ]
    }
   ],
   "source": [
    "# Load datasets\n",
    "try:\n",
    "    euroSciVoc_df = pd.read_excel('dataset/projects/euroSciVoc.xlsx')\n",
    "    legalBasis_df = pd.read_excel('dataset/projects/legalBasis.xlsx')\n",
    "    organization_df = pd.read_excel('dataset/projects/organization.xlsx')\n",
    "    project_df = pd.read_excel('dataset/projects/project.xlsx')\n",
    "    topics_df = pd.read_excel('dataset/projects/topics.xlsx')\n",
    "    webItem_df = pd.read_excel('dataset/projects/webItem.xlsx')\n",
    "    webLink_df = pd.read_excel('dataset/projects/webLink.xlsx')\n",
    "    deliverables_df = pd.read_excel('dataset/deliverables.xlsx')\n",
    "    publications_df = pd.read_excel('dataset/publications.xlsx')\n",
    "    summaries_df = pd.read_excel('dataset/summaries.xlsx')\n",
    "    \n",
    "    print(f\"EuroSciVoc dataset shape: {euroSciVoc_df.shape}\")\n",
    "    print(f\"Legal Basis dataset shape: {legalBasis_df.shape}\")\n",
    "    print(f\"Organizations dataset shape: {organization_df.shape}\")\n",
    "    print(f\"Project dataset shape: {project_df.shape}\")\n",
    "    print(f\"Topics dataset shape: {topics_df.shape}\")\n",
    "    print(f\"Web Item dataset shape: {webItem_df.shape}\")\n",
    "    print(f\"Web Link dataset shape: {webLink_df.shape}\")\n",
    "    print(f\"Deliverables dataset shape: {deliverables_df.shape}\")\n",
    "    print(f\"Publications dataset shape: {publications_df.shape}\")\n",
    "    print(f\"Summaries dataset shape: {summaries_df.shape}\")\n",
    "except FileNotFoundError as e:\n",
    "    print(f\"File not found: {e}\")\n",
    "    print(\"Please adjust the file paths to match your dataset locations.\")"
   ]
  }
 ],
 "metadata": {
  "kernelspec": {
   "display_name": "base",
   "language": "python",
   "name": "python3"
  },
  "language_info": {
   "codemirror_mode": {
    "name": "ipython",
    "version": 3
   },
   "file_extension": ".py",
   "mimetype": "text/x-python",
   "name": "python",
   "nbconvert_exporter": "python",
   "pygments_lexer": "ipython3",
   "version": "3.12.7"
  }
 },
 "nbformat": 4,
 "nbformat_minor": 2
}
